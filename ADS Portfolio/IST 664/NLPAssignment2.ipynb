{
  "nbformat": 4,
  "nbformat_minor": 0,
  "metadata": {
    "colab": {
      "provenance": [],
      "toc_visible": true
    },
    "kernelspec": {
      "name": "python3",
      "display_name": "Python 3"
    },
    "language_info": {
      "name": "python"
    }
  },
  "cells": [
    {
      "cell_type": "code",
      "source": [
        "from google.colab import drive\n",
        "drive.mount('/content/drive')"
      ],
      "metadata": {
        "colab": {
          "base_uri": "https://localhost:8080/"
        },
        "id": "cbmKAZxepiJp",
        "outputId": "17bd5ced-bc67-4a1b-9597-6c73bb80f2c4"
      },
      "execution_count": 2,
      "outputs": [
        {
          "output_type": "stream",
          "name": "stdout",
          "text": [
            "Mounted at /content/drive\n"
          ]
        }
      ]
    },
    {
      "cell_type": "code",
      "execution_count": 3,
      "metadata": {
        "colab": {
          "base_uri": "https://localhost:8080/"
        },
        "id": "g6Y35AVCpg3r",
        "outputId": "917e7879-1938-4893-9b63-dfed9f5c367c"
      },
      "outputs": [
        {
          "output_type": "stream",
          "name": "stderr",
          "text": [
            "[nltk_data] Downloading package punkt to /root/nltk_data...\n",
            "[nltk_data]   Package punkt is already up-to-date!\n",
            "[nltk_data] Downloading package averaged_perceptron_tagger to\n",
            "[nltk_data]     /root/nltk_data...\n",
            "[nltk_data]   Package averaged_perceptron_tagger is already up-to-\n",
            "[nltk_data]       date!\n",
            "[nltk_data] Downloading package stopwords to /root/nltk_data...\n",
            "[nltk_data]   Package stopwords is already up-to-date!\n"
          ]
        }
      ],
      "source": [
        "import json\n",
        "import pandas as pd\n",
        "import nltk\n",
        "import re\n",
        "from nltk.tokenize import word_tokenize, sent_tokenize\n",
        "from nltk.corpus import stopwords\n",
        "from nltk.collocations import BigramAssocMeasures, BigramCollocationFinder\n",
        "nltk.download('punkt')\n",
        "nltk.download('averaged_perceptron_tagger')\n",
        "nltk.download('stopwords')\n",
        "\n",
        "# Load the JSON file\n",
        "reviews = []\n",
        "for line in open('/content/drive/MyDrive/NLP/Assignment 1/reviews_Amazon_Instant_Video_5.json', 'r'):\n",
        "    reviews.append(json.loads(line))\n",
        "reviews=reviews[:2000]    \n",
        "\n",
        "# Define a regular expression pattern to match relevant sentences\n",
        "#this regular expression pattern matches any sentence in a text that ends with a period,\n",
        "# exclamation point, or question mark, \n",
        "#or any sentence that ends with an exclamation point, or any sentence that contains at least one capital letter. \n",
        "pattern = r'([A-Z][^\\.\\?!]*[\\.\\?!])|([\\w\\s]*[!][\\w\\s]*)|([\\w\\s]*[A-Z][\\w\\s]*)'\n",
        "\n",
        "# Define a list of stop words to filter out from the tokenized text\n",
        "stop_words = set(stopwords.words('english'))\n",
        "\n",
        "# Initialize the results list\n",
        "\n",
        "# Loop through each review in the JSON data and extract relevant information\n"
      ]
    },
    {
      "cell_type": "markdown",
      "source": [
        "#Part 1"
      ],
      "metadata": {
        "id": "PYUJVwARx9Xq"
      }
    },
    {
      "cell_type": "markdown",
      "source": [
        "##Descriptive Statistics"
      ],
      "metadata": {
        "id": "NBxhgGDKyABC"
      }
    },
    {
      "cell_type": "code",
      "source": [
        "\n",
        "results=[]\n",
        "for review in reviews:\n",
        "  text = review['reviewText']\n",
        "  summary = review['summary']\n",
        "  for sentence in sent_tokenize(text):\n",
        "        if re.match(pattern, sentence):\n",
        "            tokens = word_tokenize(sentence)\n",
        "            tokens_filtered = [t for t in tokens if t.lower() not in stop_words]\n",
        "            adjectives = [word for (word, pos) in nltk.pos_tag(tokens_filtered) if pos.startswith('JJ')]\n",
        "            nouns = [word for (word, pos) in nltk.pos_tag(tokens_filtered) if pos.startswith('NN')]\n",
        "            verbs = [word for (word, pos) in nltk.pos_tag(tokens_filtered) if pos.startswith('VB')]\n",
        "            capitalized_words = [word for word in tokens if word.isupper()]\n",
        "            exclamation_mark = '!' in sentence\n",
        "            bigram_list = [bigram for bigram in bigrams if any(word in bigram for word in adjectives + nouns + verbs)]\n",
        "            capitalized_words_str = ', '.join(capitalized_words) if capitalized_words else '0'\n",
        "            adjectives_str = ', '.join(adjectives) if adjectives else '0'\n",
        "            nouns_str = ', '.join(nouns) if nouns else '0'\n",
        "            info = {\n",
        "                'reviewText? (1 or 0)': 1,\n",
        "                'summary? (1 or 0)': 0,\n",
        "                'original text': text,\n",
        "                'extracted sentence': sentence,\n",
        "                'length of a sentence': len(tokens_filtered),\n",
        "                'adjective word list': adjectives_str,\n",
        "                'noun list': nouns_str,\n",
        "                'capital word list': capitalized_words_str,\n",
        "                'exclamation mark? (1 or 0)': 1 if exclamation_mark else 0\n",
        "            }\n",
        "            results.append(info)\n",
        "  for sentence in sent_tokenize(summary):\n",
        "        if re.match(pattern, sentence):\n",
        "            tokens = word_tokenize(sentence)\n",
        "            tokens_filtered = [t for t in tokens if t.lower() not in stop_words]\n",
        "            adjectives = [word for (word, pos) in nltk.pos_tag(tokens_filtered) if pos.startswith('JJ')]\n",
        "            nouns = [word for (word, pos) in nltk.pos_tag(tokens_filtered) if pos.startswith('NN')]\n",
        "            verbs = [word for (word, pos) in nltk.pos_tag(tokens_filtered) if pos.startswith('VB')]\n",
        "            capitalized_words = [word for word in tokens if word.isupper()]\n",
        "            exclamation_mark = '!' in sentence\n",
        "            bigram_list = [bigram for bigram in bigrams if any(word in bigram for word in adjectives + nouns + verbs)]\n",
        "            capitalized_words_str = ', '.join(capitalized_words) if capitalized_words else '0'\n",
        "            adjectives_str = ', '.join(adjectives) if adjectives else '0'\n",
        "            nouns_str = ', '.join(nouns) if nouns else '0'\n",
        "            info = {\n",
        "                'reviewText? (1 or 0)': 1,\n",
        "                'summary? (1 or 0)': 0,\n",
        "                'original text': text,\n",
        "                'extracted sentence': sentence,\n",
        "                'length of a sentence': len(tokens_filtered),\n",
        "                'adjective word list': adjectives_str,\n",
        "                'noun list': nouns_str,\n",
        "                'capital word list': capitalized_words_str,\n",
        "                'exclamation mark? (1 or 0)': 1 if exclamation_mark else 0\n",
        "            }\n",
        "            results.append(info)\n",
        "\n",
        "\n",
        "\n",
        "\n",
        "\n"
      ],
      "metadata": {
        "id": "g84tu6IhppRj"
      },
      "execution_count": 30,
      "outputs": []
    },
    {
      "cell_type": "code",
      "source": [
        "#convert dictionary to pandas df and write as csv\n",
        "df=pd.DataFrame(results)\n",
        "\n",
        "df.to_csv('descriptive statistics.csv')"
      ],
      "metadata": {
        "id": "nXJxe93gstNs"
      },
      "execution_count": 183,
      "outputs": []
    },
    {
      "cell_type": "code",
      "source": [
        "df.tail()"
      ],
      "metadata": {
        "colab": {
          "base_uri": "https://localhost:8080/",
          "height": 348
        },
        "id": "yg-v_iU8LOcu",
        "outputId": "6ad38ed6-0b2c-4a72-bac0-e6840befb9c7"
      },
      "execution_count": 185,
      "outputs": [
        {
          "output_type": "execute_result",
          "data": {
            "text/plain": [
              "       reviewText? (1 or 0)  summary? (1 or 0)  \\\n",
              "12343                     1                  0   \n",
              "12344                     1                  0   \n",
              "12345                     1                  0   \n",
              "12346                     1                  0   \n",
              "12347                     1                  0   \n",
              "\n",
              "                                           original text  \\\n",
              "12343  It was a surprise ending and I was let down on...   \n",
              "12344  It was a surprise ending and I was let down on...   \n",
              "12345  It was a surprise ending and I was let down on...   \n",
              "12346  It was a surprise ending and I was let down on...   \n",
              "12347  just when this show really took off, it stoppe...   \n",
              "\n",
              "                                      extracted sentence  \\\n",
              "12343  It was a surprise ending and I was let down on...   \n",
              "12344  Many of my favorite characters were killed but...   \n",
              "12345  Wish more series like this were on TV instead ...   \n",
              "12346               I love a good story and good acting.   \n",
              "12347  why do they keep crap on the air on not good o...   \n",
              "\n",
              "       length of a sentence              adjective word list  \\\n",
              "12343                     6                              let   \n",
              "12344                     8  Many, favorite, good, prevailed   \n",
              "12345                     9                             Wish   \n",
              "12346                     6                       good, good   \n",
              "12347                     8                             good   \n",
              "\n",
              "                            noun list bigram list capital word list  \\\n",
              "12343             surprise, end, show           0                 I   \n",
              "12344                 characters, end           0                 0   \n",
              "12345  series, TV, competitions, junk           0                TV   \n",
              "12346                   story, acting           0                 I   \n",
              "12347        crap, air, ones, Jericho           0                 0   \n",
              "\n",
              "       exclamation mark? (1 or 0)  \n",
              "12343                           0  \n",
              "12344                           0  \n",
              "12345                           0  \n",
              "12346                           0  \n",
              "12347                           0  "
            ],
            "text/html": [
              "\n",
              "  <div id=\"df-ea746d1e-7847-4de6-b539-279ba890ca9b\">\n",
              "    <div class=\"colab-df-container\">\n",
              "      <div>\n",
              "<style scoped>\n",
              "    .dataframe tbody tr th:only-of-type {\n",
              "        vertical-align: middle;\n",
              "    }\n",
              "\n",
              "    .dataframe tbody tr th {\n",
              "        vertical-align: top;\n",
              "    }\n",
              "\n",
              "    .dataframe thead th {\n",
              "        text-align: right;\n",
              "    }\n",
              "</style>\n",
              "<table border=\"1\" class=\"dataframe\">\n",
              "  <thead>\n",
              "    <tr style=\"text-align: right;\">\n",
              "      <th></th>\n",
              "      <th>reviewText? (1 or 0)</th>\n",
              "      <th>summary? (1 or 0)</th>\n",
              "      <th>original text</th>\n",
              "      <th>extracted sentence</th>\n",
              "      <th>length of a sentence</th>\n",
              "      <th>adjective word list</th>\n",
              "      <th>noun list</th>\n",
              "      <th>bigram list</th>\n",
              "      <th>capital word list</th>\n",
              "      <th>exclamation mark? (1 or 0)</th>\n",
              "    </tr>\n",
              "  </thead>\n",
              "  <tbody>\n",
              "    <tr>\n",
              "      <th>12343</th>\n",
              "      <td>1</td>\n",
              "      <td>0</td>\n",
              "      <td>It was a surprise ending and I was let down on...</td>\n",
              "      <td>It was a surprise ending and I was let down on...</td>\n",
              "      <td>6</td>\n",
              "      <td>let</td>\n",
              "      <td>surprise, end, show</td>\n",
              "      <td>0</td>\n",
              "      <td>I</td>\n",
              "      <td>0</td>\n",
              "    </tr>\n",
              "    <tr>\n",
              "      <th>12344</th>\n",
              "      <td>1</td>\n",
              "      <td>0</td>\n",
              "      <td>It was a surprise ending and I was let down on...</td>\n",
              "      <td>Many of my favorite characters were killed but...</td>\n",
              "      <td>8</td>\n",
              "      <td>Many, favorite, good, prevailed</td>\n",
              "      <td>characters, end</td>\n",
              "      <td>0</td>\n",
              "      <td>0</td>\n",
              "      <td>0</td>\n",
              "    </tr>\n",
              "    <tr>\n",
              "      <th>12345</th>\n",
              "      <td>1</td>\n",
              "      <td>0</td>\n",
              "      <td>It was a surprise ending and I was let down on...</td>\n",
              "      <td>Wish more series like this were on TV instead ...</td>\n",
              "      <td>9</td>\n",
              "      <td>Wish</td>\n",
              "      <td>series, TV, competitions, junk</td>\n",
              "      <td>0</td>\n",
              "      <td>TV</td>\n",
              "      <td>0</td>\n",
              "    </tr>\n",
              "    <tr>\n",
              "      <th>12346</th>\n",
              "      <td>1</td>\n",
              "      <td>0</td>\n",
              "      <td>It was a surprise ending and I was let down on...</td>\n",
              "      <td>I love a good story and good acting.</td>\n",
              "      <td>6</td>\n",
              "      <td>good, good</td>\n",
              "      <td>story, acting</td>\n",
              "      <td>0</td>\n",
              "      <td>I</td>\n",
              "      <td>0</td>\n",
              "    </tr>\n",
              "    <tr>\n",
              "      <th>12347</th>\n",
              "      <td>1</td>\n",
              "      <td>0</td>\n",
              "      <td>just when this show really took off, it stoppe...</td>\n",
              "      <td>why do they keep crap on the air on not good o...</td>\n",
              "      <td>8</td>\n",
              "      <td>good</td>\n",
              "      <td>crap, air, ones, Jericho</td>\n",
              "      <td>0</td>\n",
              "      <td>0</td>\n",
              "      <td>0</td>\n",
              "    </tr>\n",
              "  </tbody>\n",
              "</table>\n",
              "</div>\n",
              "      <button class=\"colab-df-convert\" onclick=\"convertToInteractive('df-ea746d1e-7847-4de6-b539-279ba890ca9b')\"\n",
              "              title=\"Convert this dataframe to an interactive table.\"\n",
              "              style=\"display:none;\">\n",
              "        \n",
              "  <svg xmlns=\"http://www.w3.org/2000/svg\" height=\"24px\"viewBox=\"0 0 24 24\"\n",
              "       width=\"24px\">\n",
              "    <path d=\"M0 0h24v24H0V0z\" fill=\"none\"/>\n",
              "    <path d=\"M18.56 5.44l.94 2.06.94-2.06 2.06-.94-2.06-.94-.94-2.06-.94 2.06-2.06.94zm-11 1L8.5 8.5l.94-2.06 2.06-.94-2.06-.94L8.5 2.5l-.94 2.06-2.06.94zm10 10l.94 2.06.94-2.06 2.06-.94-2.06-.94-.94-2.06-.94 2.06-2.06.94z\"/><path d=\"M17.41 7.96l-1.37-1.37c-.4-.4-.92-.59-1.43-.59-.52 0-1.04.2-1.43.59L10.3 9.45l-7.72 7.72c-.78.78-.78 2.05 0 2.83L4 21.41c.39.39.9.59 1.41.59.51 0 1.02-.2 1.41-.59l7.78-7.78 2.81-2.81c.8-.78.8-2.07 0-2.86zM5.41 20L4 18.59l7.72-7.72 1.47 1.35L5.41 20z\"/>\n",
              "  </svg>\n",
              "      </button>\n",
              "      \n",
              "  <style>\n",
              "    .colab-df-container {\n",
              "      display:flex;\n",
              "      flex-wrap:wrap;\n",
              "      gap: 12px;\n",
              "    }\n",
              "\n",
              "    .colab-df-convert {\n",
              "      background-color: #E8F0FE;\n",
              "      border: none;\n",
              "      border-radius: 50%;\n",
              "      cursor: pointer;\n",
              "      display: none;\n",
              "      fill: #1967D2;\n",
              "      height: 32px;\n",
              "      padding: 0 0 0 0;\n",
              "      width: 32px;\n",
              "    }\n",
              "\n",
              "    .colab-df-convert:hover {\n",
              "      background-color: #E2EBFA;\n",
              "      box-shadow: 0px 1px 2px rgba(60, 64, 67, 0.3), 0px 1px 3px 1px rgba(60, 64, 67, 0.15);\n",
              "      fill: #174EA6;\n",
              "    }\n",
              "\n",
              "    [theme=dark] .colab-df-convert {\n",
              "      background-color: #3B4455;\n",
              "      fill: #D2E3FC;\n",
              "    }\n",
              "\n",
              "    [theme=dark] .colab-df-convert:hover {\n",
              "      background-color: #434B5C;\n",
              "      box-shadow: 0px 1px 3px 1px rgba(0, 0, 0, 0.15);\n",
              "      filter: drop-shadow(0px 1px 2px rgba(0, 0, 0, 0.3));\n",
              "      fill: #FFFFFF;\n",
              "    }\n",
              "  </style>\n",
              "\n",
              "      <script>\n",
              "        const buttonEl =\n",
              "          document.querySelector('#df-ea746d1e-7847-4de6-b539-279ba890ca9b button.colab-df-convert');\n",
              "        buttonEl.style.display =\n",
              "          google.colab.kernel.accessAllowed ? 'block' : 'none';\n",
              "\n",
              "        async function convertToInteractive(key) {\n",
              "          const element = document.querySelector('#df-ea746d1e-7847-4de6-b539-279ba890ca9b');\n",
              "          const dataTable =\n",
              "            await google.colab.kernel.invokeFunction('convertToInteractive',\n",
              "                                                     [key], {});\n",
              "          if (!dataTable) return;\n",
              "\n",
              "          const docLinkHtml = 'Like what you see? Visit the ' +\n",
              "            '<a target=\"_blank\" href=https://colab.research.google.com/notebooks/data_table.ipynb>data table notebook</a>'\n",
              "            + ' to learn more about interactive tables.';\n",
              "          element.innerHTML = '';\n",
              "          dataTable['output_type'] = 'display_data';\n",
              "          await google.colab.output.renderOutput(dataTable, element);\n",
              "          const docLink = document.createElement('div');\n",
              "          docLink.innerHTML = docLinkHtml;\n",
              "          element.appendChild(docLink);\n",
              "        }\n",
              "      </script>\n",
              "    </div>\n",
              "  </div>\n",
              "  "
            ]
          },
          "metadata": {},
          "execution_count": 185
        }
      ]
    },
    {
      "cell_type": "markdown",
      "source": [
        "#Part 2"
      ],
      "metadata": {
        "id": "L1oy7LnVyNh4"
      }
    },
    {
      "cell_type": "markdown",
      "source": [
        "## Bag of Word Features\n"
      ],
      "metadata": {
        "id": "HjrhUHaqyQNS"
      }
    },
    {
      "cell_type": "code",
      "source": [
        "#I use the movie review corpus from nltk as my training corpus\n",
        "nltk.download('sentence_polarity')\n",
        "from nltk.corpus import sentence_polarity\n",
        "import random\n",
        "\n",
        "# I then create the list of documents where each document(sentence) is paired with its label. Its important to shuffle the document, so that when we split our data it is a mix of negative and positive reviews\n",
        "sentences = sentence_polarity.sents()\n",
        "documents = [(sent, cat) for cat in sentence_polarity.categories() for sent in sentence_polarity.sents(categories=cat)]"
      ],
      "metadata": {
        "colab": {
          "base_uri": "https://localhost:8080/"
        },
        "id": "T8WVQVCHyY5I",
        "outputId": "be02705b-3801-4c2f-ec2d-ec03dde97565"
      },
      "execution_count": 35,
      "outputs": [
        {
          "output_type": "stream",
          "name": "stderr",
          "text": [
            "[nltk_data] Downloading package sentence_polarity to\n",
            "[nltk_data]     /root/nltk_data...\n",
            "[nltk_data]   Package sentence_polarity is already up-to-date!\n"
          ]
        }
      ]
    },
    {
      "cell_type": "code",
      "source": [
        "#I used the 2000 most frequent words  for features.  \n",
        "all_words_list = [word for (sent,cat) in documents for word in sent]\n",
        "all_words = nltk.FreqDist(all_words_list)\n",
        "word_items = all_words.most_common(2000)\n",
        "word_features = [word for (word,count) in word_items]"
      ],
      "metadata": {
        "id": "jbjoG__uyj1P"
      },
      "execution_count": 36,
      "outputs": []
    },
    {
      "cell_type": "code",
      "source": [
        "# for each keyword (aka word) in the word_features set, and the value of the feature will be Boolean, \n",
        "# according to whether the word is contained in that document.\n",
        "def document_features(document, word_features):\n",
        "    document_words = set(document)\n",
        "    features = {}\n",
        "    for word in word_features:\n",
        "        features['V_{}'.format(word)] = (word in document_words)\n",
        "    return features\n",
        "# get features sets for a document, including keyword features and category feature\n",
        "featuresets = [(document_features(d, word_features), c) for (d, c) in documents]"
      ],
      "metadata": {
        "id": "mpgt1tusznQA"
      },
      "execution_count": 37,
      "outputs": []
    },
    {
      "cell_type": "markdown",
      "source": [
        "###Testing my Classifier *italicized text*\n",
        "\n",
        "I will use NaiveBayes classifier to classify my testing corpus. I will use k fold cross validation to the accuracy of my classifier\n"
      ],
      "metadata": {
        "id": "BGENSzP40Y3c"
      }
    },
    {
      "cell_type": "code",
      "source": [
        "from nltk.tokenize import word_tokenize\n",
        "from nltk import FreqDist, NaiveBayesClassifier\n",
        "from nltk.classify import accuracy, apply_features\n",
        "from sklearn.model_selection import KFold"
      ],
      "metadata": {
        "id": "L22HqGaDz9rx"
      },
      "execution_count": 38,
      "outputs": []
    },
    {
      "cell_type": "code",
      "source": [
        "\n",
        "k = 5\n",
        "kf = KFold(n_splits=k)\n",
        "precision_scores = []\n",
        "recall_scores = []\n",
        "measure_f_scores = []"
      ],
      "metadata": {
        "id": "W_hb09p20cXl"
      },
      "execution_count": 39,
      "outputs": []
    },
    {
      "cell_type": "code",
      "source": [
        "#split data into train and test set\n",
        "for train_index, test_index in kf.split(featuresets):\n",
        "    train_set = [featuresets[i] for i in train_index]\n",
        "    test_set = [featuresets[i] for i in test_index]"
      ],
      "metadata": {
        "id": "0ZHczxcY00X8"
      },
      "execution_count": 40,
      "outputs": []
    },
    {
      "cell_type": "code",
      "source": [
        "#run classifier on my training set\n",
        "classifier = NaiveBayesClassifier.train(train_set)\n",
        "true_positives = 0\n",
        "false_positives = 0\n",
        "false_negatives = 0"
      ],
      "metadata": {
        "id": "Bc5AAUdG06md"
      },
      "execution_count": 41,
      "outputs": []
    },
    {
      "cell_type": "code",
      "source": [
        "#run classifier on test set and collect TP,FP,FN\n",
        "for i, (features, label) in enumerate(test_set):\n",
        "        predicted_label = classifier.classify(features)\n",
        "        if predicted_label == 'pos' and label == 'pos':\n",
        "            true_positives += 1\n",
        "        elif predicted_label == 'pos' and label == 'neg':\n",
        "            false_positives += 1\n",
        "        elif predicted_label == 'neg' and label == 'pos':\n",
        "            false_negatives += 1"
      ],
      "metadata": {
        "id": "XPL8GMSO1H0o"
      },
      "execution_count": 42,
      "outputs": []
    },
    {
      "cell_type": "code",
      "source": [
        "precision = true_positives / (true_positives + false_positives) if (true_positives + false_positives) > 0 else 0\n",
        "recall = true_positives / (true_positives + false_negatives) if (true_positives + false_negatives) > 0 else 0\n",
        "f_measure = 2 * precision * recall / (precision + recall) if (precision + recall) > 0 else 0\n",
        "\n",
        "\n",
        "precision_scores.append(precision)\n",
        "recall_scores.append(recall)\n",
        "measure_f_scores.append(f_measure)\n",
        "\n",
        "# print the average scores\n",
        "print('Precision: %.4f' % (sum(precision_scores) / k))\n",
        "print('Recall: %.4f' % (sum(recall_scores) / k))\n",
        "print('F-measure: %.4f' % (sum(measure_f_scores) / k))\n"
      ],
      "metadata": {
        "colab": {
          "base_uri": "https://localhost:8080/"
        },
        "id": "4g2564yz1jdO",
        "outputId": "4cf728f4-7b88-4060-dec8-581ee1078198"
      },
      "execution_count": 43,
      "outputs": [
        {
          "output_type": "stream",
          "name": "stdout",
          "text": [
            "Precision: 0.2000\n",
            "Recall: 0.1267\n",
            "F-measure: 0.1552\n"
          ]
        }
      ]
    },
    {
      "cell_type": "markdown",
      "source": [
        "My model is not that accurate, so I will add negation words to my features, to see if that improves my model"
      ],
      "metadata": {
        "id": "OGztOxIk1sQ0"
      }
    },
    {
      "cell_type": "markdown",
      "source": [
        "##Negatiton\n",
        "I will negate all words up to the next punctuation or use syntax to find the scope of the negation."
      ],
      "metadata": {
        "id": "B4sCW-YT0EsW"
      }
    },
    {
      "cell_type": "code",
      "source": [
        "negationwords = ['no', 'not', 'never', 'none', 'nowhere', 'nothing', 'noone', 'rather', 'hardly', 'scarcely', 'rarely', 'seldom', 'neither', 'nor']"
      ],
      "metadata": {
        "id": "mQrNRmOl1r6x"
      },
      "execution_count": 44,
      "outputs": []
    },
    {
      "cell_type": "code",
      "source": [
        "# Strategy is to go through the document words in order adding the word features,\n",
        "#   but if the word follows a negation words, change the feature to negated word\n",
        "# Start the feature set with all 2000 word features and 2000 Not word features set to false\n",
        "def NOT_features(document, word_features, negationwords):\n",
        "    features = {}\n",
        "    for word in word_features:\n",
        "        features['V_{}'.format(word)] = False\n",
        "        features['V_NOT{}'.format(word)] = False\n",
        "    # go through document words in order\n",
        "    for i in range(0, len(document)):\n",
        "        word = document[i]\n",
        "        if ((i + 1) < len(document)) and ((word in negationwords) or (word.endswith(\"n't\"))):\n",
        "            i += 1\n",
        "            features['V_NOT{}'.format(document[i])] = (document[i] in word_features)\n",
        "        else:\n",
        "            features['V_{}'.format(word)] = (word in word_features)\n",
        "    return features\n",
        "# define the feature sets\n",
        "NOT_featuresets = [(NOT_features(d, word_features, negationwords), c) for (d, c) in documents]\n",
        "# show the values of a couple of example features\n"
      ],
      "metadata": {
        "id": "4EkVBwte1qdU"
      },
      "execution_count": 45,
      "outputs": []
    },
    {
      "cell_type": "code",
      "source": [
        "#Next we will test the new negation featureset\n",
        "for NOT_train_index, NOT_test_index in kf.split(NOT_featuresets):\n",
        "    NOT_train_set = [NOT_featuresets[i] for i in NOT_train_index]\n",
        "    NOT_test_set = [NOT_featuresets[i] for i in NOT_test_index]"
      ],
      "metadata": {
        "id": "81xY5p1F00yA"
      },
      "execution_count": 46,
      "outputs": []
    },
    {
      "cell_type": "code",
      "source": [
        "NOT_classifier = NaiveBayesClassifier.train(NOT_train_set)\n",
        "true_positives = 0\n",
        "false_positives = 0\n",
        "false_negatives = 0"
      ],
      "metadata": {
        "id": "iMauv2j-1DPz"
      },
      "execution_count": 47,
      "outputs": []
    },
    {
      "cell_type": "code",
      "source": [
        " for i, (features, label) in enumerate(NOT_test_set):\n",
        "        predicted_label = NOT_classifier.classify(features)\n",
        "        if predicted_label == 'pos' and label == 'pos':\n",
        "            true_positives += 1\n",
        "        elif predicted_label == 'pos' and label == 'neg':\n",
        "            false_positives += 1\n",
        "        elif predicted_label == 'neg' and label == 'pos':\n",
        "            false_negatives += 1"
      ],
      "metadata": {
        "id": "alrK8AXp1Gz_"
      },
      "execution_count": 58,
      "outputs": []
    },
    {
      "cell_type": "code",
      "source": [
        "precision_scores = []\n",
        "recall_scores = []\n",
        "measure_f_scores = []"
      ],
      "metadata": {
        "id": "wVLxus8b2YJk"
      },
      "execution_count": 59,
      "outputs": []
    },
    {
      "cell_type": "code",
      "source": [
        "precision = true_positives / (true_positives + false_positives) if (true_positives + false_positives) > 0 else 0\n",
        "recall = true_positives / (true_positives + false_negatives) if (true_positives + false_negatives) > 0 else 0\n",
        "f_measure = 2 * precision * recall / (precision + recall) if (precision + recall) > 0 else 0\n",
        "\n",
        "\n",
        "precision_scores.append(precision)\n",
        "recall_scores.append(recall)\n",
        "measure_f_scores.append(f_measure)\n",
        "\n",
        "# print the average scores\n",
        "print('Precision: %.4f' % (sum(precision_scores) / k))\n",
        "print('Recall: %.4f' % (sum(recall_scores) / k))\n",
        "print('F-measure: %.4f' % (sum(measure_f_scores) / k))"
      ],
      "metadata": {
        "colab": {
          "base_uri": "https://localhost:8080/"
        },
        "id": "F6cemFV31eLd",
        "outputId": "dc98de99-4353-4893-b4de-dd1e52b022b1"
      },
      "execution_count": 62,
      "outputs": [
        {
          "output_type": "stream",
          "name": "stdout",
          "text": [
            "Precision: 0.6000\n",
            "Recall: 0.4365\n",
            "F-measure: 0.5053\n"
          ]
        }
      ]
    },
    {
      "cell_type": "markdown",
      "source": [
        "Adding the negation feature significanty increase my model, therefore we we use the bag of words, along with the negation feature to classify our review sentencs\n"
      ],
      "metadata": {
        "id": "rvQ4Y-xj2m7A"
      }
    },
    {
      "cell_type": "markdown",
      "source": [
        "##Classifying the reviews "
      ],
      "metadata": {
        "id": "GRtzVzHN22j_"
      }
    },
    {
      "cell_type": "code",
      "source": [
        "positive_sentences=[]\n",
        "negative_sentences=[]\n",
        "num_items = len(reviews)\n",
        "review_texts = [''] * num_items\n",
        "review_positives = [0] * num_items\n",
        "review_negatives = [0] * num_items\n",
        "summary_texts = [''] * num_items\n",
        "summary_positives = [0] * num_items\n",
        "summary_negatives = [0] * num_items"
      ],
      "metadata": {
        "id": "zLM2gPuC3coa"
      },
      "execution_count": 135,
      "outputs": []
    },
    {
      "cell_type": "code",
      "source": [
        "for i, item in enumerate(reviews):\n",
        "    # Extract review text\n",
        "    review_text = item['reviewText']\n",
        "    review_texts[i] = review_text\n",
        "    # Tokenize the review text into sentences\n",
        "    review_sentences = sent_tokenize(review_text)\n",
        "    # Initialize counters for positive and negative sentences\n",
        "    review_positive_count = 0\n",
        "    review_negative_count = 0\n",
        "    # Loop through each sentence in the review\n",
        "    for sentence in review_sentences:\n",
        "        # Classify the sentiment polarity of the sentence\n",
        "        inputfeaturesetreviews = NOT_features(sentence,word_features, negationwords) \n",
        "        sentiment_polarity = NOT_classifier.classify(inputfeaturesetreviews)\n",
        "        # Increment the appropriate counter based on the sentiment polarity\n",
        "        if sentiment_polarity == 'pos':\n",
        "            positive_sentences.append(sentence)\n",
        "            review_positive_count += 1\n",
        "        elif sentiment_polarity == 'neg':\n",
        "            negative_sentences.append(sentence)\n",
        "            review_negative_count += 1\n",
        "    review_positives[i] = review_positive_count\n",
        "    review_negatives[i] = review_negative_count\n",
        "    # Extract summary text\n",
        "    summary_text = item['summary']\n",
        "    summary_texts[i] = summary_text\n",
        "    # Tokenize the summary text into sentences\n",
        "    summary_sentences = sent_tokenize(summary_text)\n",
        "    # Initialize counters for positive and negative sentences\n",
        "    summary_positive_count = 0\n",
        "    summary_negative_count = 0\n",
        "    # Loop through each sentence in the summary\n",
        "    for sentence in summary_sentences:\n",
        "        # Classify the sentiment polarity of the sentence\n",
        "        inputfeaturesetsummaries=NOT_features(sentence,word_features,negationwords) \n",
        "        sentiment_polarity = NOT_classifier.classify(inputfeaturesetsummaries)\n",
        "        # Increment the appropriate counter based on the sentiment polarity\n",
        "        if sentiment_polarity == 'pos':\n",
        "            positive_sentences.append(sentence)\n",
        "            summary_positive_count += 1\n",
        "        elif sentiment_polarity == 'neg':\n",
        "            negative_sentences.append(sentence)\n",
        "            summary_negative_count += 1\n",
        "    summary_positives[i] = summary_positive_count\n",
        "    summary_negatives[i] = summary_negative_count\n",
        "\n",
        "\n",
        "\n",
        "\n",
        "# Save the DataFrame to a CSV file\n",
        "#df.to_csv('sentiment_counts.csv', index=False)\n",
        "\n",
        "\n",
        "\n",
        "        "
      ],
      "metadata": {
        "id": "z3-z8h-d21-s"
      },
      "execution_count": 136,
      "outputs": []
    },
    {
      "cell_type": "code",
      "source": [
        "# Create a Pandas DataFrame from the extracted data\n",
        "df = pd.DataFrame({'reviewText': review_texts,\n",
        "                   '# of positive sentences in reviewText': review_positives,\n",
        "                   '# of negative sentences in reviewText ': review_negatives,\n",
        "                   'summary': summary_texts,\n",
        "                   '# of positive sentences in summary': summary_positives,\n",
        "                   '# of negative sentencws in summary': summary_negatives})\n",
        "\n",
        "#Save the DataFrame to a CSV file\n",
        "df.to_csv('sentiment_counts.csv', index=False)"
      ],
      "metadata": {
        "id": "xuvbQYdj5ksd"
      },
      "execution_count": 186,
      "outputs": []
    },
    {
      "cell_type": "code",
      "source": [
        "df.head()"
      ],
      "metadata": {
        "colab": {
          "base_uri": "https://localhost:8080/",
          "height": 331
        },
        "id": "1pNuUF2SNDiB",
        "outputId": "3a58f382-68b0-4e26-ccf7-1f25d38d3cce"
      },
      "execution_count": 187,
      "outputs": [
        {
          "output_type": "execute_result",
          "data": {
            "text/plain": [
              "                                          reviewText  \\\n",
              "0  I had big expectations because I love English ...   \n",
              "1  I highly recommend this series. It is a must f...   \n",
              "2  This one is a real snoozer. Don't believe anyt...   \n",
              "3  Mysteries are interesting.  The tension betwee...   \n",
              "4  This show always is excellent, as far as briti...   \n",
              "\n",
              "   # of positive sentences in reviewText  \\\n",
              "0                                      1   \n",
              "1                                      2   \n",
              "2                                      2   \n",
              "3                                      2   \n",
              "4                                     11   \n",
              "\n",
              "   # of negative sentences in reviewText                          summary  \\\n",
              "0                                       1      A little bit boring for me   \n",
              "1                                       2           Excellent Grown Up TV   \n",
              "2                                       2           Way too boring for me   \n",
              "3                                       1     Robson Green is mesmerizing   \n",
              "4                                       1  Robson green and great writing   \n",
              "\n",
              "   # of positive sentences in summary  # of negative sentencws in summary  \n",
              "0                                   0                                   1  \n",
              "1                                   1                                   0  \n",
              "2                                   0                                   1  \n",
              "3                                   0                                   1  \n",
              "4                                   1                                   0  "
            ],
            "text/html": [
              "\n",
              "  <div id=\"df-ba4fce05-5b7c-4050-b67a-26bd95240ae0\">\n",
              "    <div class=\"colab-df-container\">\n",
              "      <div>\n",
              "<style scoped>\n",
              "    .dataframe tbody tr th:only-of-type {\n",
              "        vertical-align: middle;\n",
              "    }\n",
              "\n",
              "    .dataframe tbody tr th {\n",
              "        vertical-align: top;\n",
              "    }\n",
              "\n",
              "    .dataframe thead th {\n",
              "        text-align: right;\n",
              "    }\n",
              "</style>\n",
              "<table border=\"1\" class=\"dataframe\">\n",
              "  <thead>\n",
              "    <tr style=\"text-align: right;\">\n",
              "      <th></th>\n",
              "      <th>reviewText</th>\n",
              "      <th># of positive sentences in reviewText</th>\n",
              "      <th># of negative sentences in reviewText</th>\n",
              "      <th>summary</th>\n",
              "      <th># of positive sentences in summary</th>\n",
              "      <th># of negative sentencws in summary</th>\n",
              "    </tr>\n",
              "  </thead>\n",
              "  <tbody>\n",
              "    <tr>\n",
              "      <th>0</th>\n",
              "      <td>I had big expectations because I love English ...</td>\n",
              "      <td>1</td>\n",
              "      <td>1</td>\n",
              "      <td>A little bit boring for me</td>\n",
              "      <td>0</td>\n",
              "      <td>1</td>\n",
              "    </tr>\n",
              "    <tr>\n",
              "      <th>1</th>\n",
              "      <td>I highly recommend this series. It is a must f...</td>\n",
              "      <td>2</td>\n",
              "      <td>2</td>\n",
              "      <td>Excellent Grown Up TV</td>\n",
              "      <td>1</td>\n",
              "      <td>0</td>\n",
              "    </tr>\n",
              "    <tr>\n",
              "      <th>2</th>\n",
              "      <td>This one is a real snoozer. Don't believe anyt...</td>\n",
              "      <td>2</td>\n",
              "      <td>2</td>\n",
              "      <td>Way too boring for me</td>\n",
              "      <td>0</td>\n",
              "      <td>1</td>\n",
              "    </tr>\n",
              "    <tr>\n",
              "      <th>3</th>\n",
              "      <td>Mysteries are interesting.  The tension betwee...</td>\n",
              "      <td>2</td>\n",
              "      <td>1</td>\n",
              "      <td>Robson Green is mesmerizing</td>\n",
              "      <td>0</td>\n",
              "      <td>1</td>\n",
              "    </tr>\n",
              "    <tr>\n",
              "      <th>4</th>\n",
              "      <td>This show always is excellent, as far as briti...</td>\n",
              "      <td>11</td>\n",
              "      <td>1</td>\n",
              "      <td>Robson green and great writing</td>\n",
              "      <td>1</td>\n",
              "      <td>0</td>\n",
              "    </tr>\n",
              "  </tbody>\n",
              "</table>\n",
              "</div>\n",
              "      <button class=\"colab-df-convert\" onclick=\"convertToInteractive('df-ba4fce05-5b7c-4050-b67a-26bd95240ae0')\"\n",
              "              title=\"Convert this dataframe to an interactive table.\"\n",
              "              style=\"display:none;\">\n",
              "        \n",
              "  <svg xmlns=\"http://www.w3.org/2000/svg\" height=\"24px\"viewBox=\"0 0 24 24\"\n",
              "       width=\"24px\">\n",
              "    <path d=\"M0 0h24v24H0V0z\" fill=\"none\"/>\n",
              "    <path d=\"M18.56 5.44l.94 2.06.94-2.06 2.06-.94-2.06-.94-.94-2.06-.94 2.06-2.06.94zm-11 1L8.5 8.5l.94-2.06 2.06-.94-2.06-.94L8.5 2.5l-.94 2.06-2.06.94zm10 10l.94 2.06.94-2.06 2.06-.94-2.06-.94-.94-2.06-.94 2.06-2.06.94z\"/><path d=\"M17.41 7.96l-1.37-1.37c-.4-.4-.92-.59-1.43-.59-.52 0-1.04.2-1.43.59L10.3 9.45l-7.72 7.72c-.78.78-.78 2.05 0 2.83L4 21.41c.39.39.9.59 1.41.59.51 0 1.02-.2 1.41-.59l7.78-7.78 2.81-2.81c.8-.78.8-2.07 0-2.86zM5.41 20L4 18.59l7.72-7.72 1.47 1.35L5.41 20z\"/>\n",
              "  </svg>\n",
              "      </button>\n",
              "      \n",
              "  <style>\n",
              "    .colab-df-container {\n",
              "      display:flex;\n",
              "      flex-wrap:wrap;\n",
              "      gap: 12px;\n",
              "    }\n",
              "\n",
              "    .colab-df-convert {\n",
              "      background-color: #E8F0FE;\n",
              "      border: none;\n",
              "      border-radius: 50%;\n",
              "      cursor: pointer;\n",
              "      display: none;\n",
              "      fill: #1967D2;\n",
              "      height: 32px;\n",
              "      padding: 0 0 0 0;\n",
              "      width: 32px;\n",
              "    }\n",
              "\n",
              "    .colab-df-convert:hover {\n",
              "      background-color: #E2EBFA;\n",
              "      box-shadow: 0px 1px 2px rgba(60, 64, 67, 0.3), 0px 1px 3px 1px rgba(60, 64, 67, 0.15);\n",
              "      fill: #174EA6;\n",
              "    }\n",
              "\n",
              "    [theme=dark] .colab-df-convert {\n",
              "      background-color: #3B4455;\n",
              "      fill: #D2E3FC;\n",
              "    }\n",
              "\n",
              "    [theme=dark] .colab-df-convert:hover {\n",
              "      background-color: #434B5C;\n",
              "      box-shadow: 0px 1px 3px 1px rgba(0, 0, 0, 0.15);\n",
              "      filter: drop-shadow(0px 1px 2px rgba(0, 0, 0, 0.3));\n",
              "      fill: #FFFFFF;\n",
              "    }\n",
              "  </style>\n",
              "\n",
              "      <script>\n",
              "        const buttonEl =\n",
              "          document.querySelector('#df-ba4fce05-5b7c-4050-b67a-26bd95240ae0 button.colab-df-convert');\n",
              "        buttonEl.style.display =\n",
              "          google.colab.kernel.accessAllowed ? 'block' : 'none';\n",
              "\n",
              "        async function convertToInteractive(key) {\n",
              "          const element = document.querySelector('#df-ba4fce05-5b7c-4050-b67a-26bd95240ae0');\n",
              "          const dataTable =\n",
              "            await google.colab.kernel.invokeFunction('convertToInteractive',\n",
              "                                                     [key], {});\n",
              "          if (!dataTable) return;\n",
              "\n",
              "          const docLinkHtml = 'Like what you see? Visit the ' +\n",
              "            '<a target=\"_blank\" href=https://colab.research.google.com/notebooks/data_table.ipynb>data table notebook</a>'\n",
              "            + ' to learn more about interactive tables.';\n",
              "          element.innerHTML = '';\n",
              "          dataTable['output_type'] = 'display_data';\n",
              "          await google.colab.output.renderOutput(dataTable, element);\n",
              "          const docLink = document.createElement('div');\n",
              "          docLink.innerHTML = docLinkHtml;\n",
              "          element.appendChild(docLink);\n",
              "        }\n",
              "      </script>\n",
              "    </div>\n",
              "  </div>\n",
              "  "
            ]
          },
          "metadata": {},
          "execution_count": 187
        }
      ]
    },
    {
      "cell_type": "code",
      "source": [
        "\n",
        "positive_adjectives = []\n",
        "positive_adverbs = []\n",
        "positive_verbs = []\n",
        "negative_adjectives = []\n",
        "negative_adverbs = []\n",
        "negative_verbs = []"
      ],
      "metadata": {
        "id": "S0GZ8nu5-BOg"
      },
      "execution_count": 153,
      "outputs": []
    },
    {
      "cell_type": "code",
      "source": [
        "#up until this point I haven't removed stopwords for classification, but I would like to before I get the top 50 adjectives, adverbs and verbs\n",
        "from nltk.corpus import stopwords\n",
        "nltk.download('stopwords')\n",
        "stop_words = set(stopwords.words('english'))"
      ],
      "metadata": {
        "colab": {
          "base_uri": "https://localhost:8080/"
        },
        "id": "V7igMtr2C2Oz",
        "outputId": "d3527de2-4f8b-4b4f-db57-a8183b8b4424"
      },
      "execution_count": 146,
      "outputs": [
        {
          "output_type": "stream",
          "name": "stderr",
          "text": [
            "[nltk_data] Downloading package stopwords to /root/nltk_data...\n",
            "[nltk_data]   Package stopwords is already up-to-date!\n"
          ]
        }
      ]
    },
    {
      "cell_type": "code",
      "source": [
        "#collect pos tags for sentence and collect list of adjectives, adverbs and verbs\n",
        "for sentence in positive_sentences:\n",
        "    pos_tokens=word_tokenize(sentence)\n",
        "    tags=nltk.pos_tag(pos_tokens)\n",
        "    for word,tag in tags:\n",
        "            if word.lower() not in stop_words and tag.startswith('JJ'):\n",
        "                positive_adjectives.append(word.lower())\n",
        "            elif word.lower() not in stop_words and tag.startswith('RB'):\n",
        "                positive_adverbs.append(word.lower())\n",
        "            elif word.lower() not in stop_words and tag.startswith('VB'):\n",
        "                positive_verbs.append(word.lower())"
      ],
      "metadata": {
        "id": "HN-QxGH95ruq"
      },
      "execution_count": 154,
      "outputs": []
    },
    {
      "cell_type": "code",
      "source": [
        "for sentence in negative_sentences:\n",
        "    pos_tokens=word_tokenize(sentence)\n",
        "    tags=nltk.pos_tag(pos_tokens)\n",
        "    for word,tag in tags:\n",
        "            if word.lower() not in stop_words and tag.startswith('JJ'):\n",
        "                negative_adjectives.append(word.lower())\n",
        "            elif word.lower() not in stop_words and tag.startswith('RB'):\n",
        "                negative_adverbs.append(word.lower())\n",
        "            elif word.lower() not in stop_words and tag.startswith('VB'):\n",
        "                negative_verbs.append(word.lower())"
      ],
      "metadata": {
        "id": "mwHPh8r7_cLK"
      },
      "execution_count": 170,
      "outputs": []
    },
    {
      "cell_type": "code",
      "source": [
        "freq_dist_pos_adj = nltk.FreqDist(positive_adjectives)\n",
        "top_pos_adj=freq_dist_pos_adj.most_common(50)\n",
        "freq_dist_pos_adverb = nltk.FreqDist(positive_adverbs)\n",
        "top_pos_adverbs=freq_dist_pos_adverb.most_common(50)\n",
        "freq_dist_pos_verb = nltk.FreqDist(positive_verbs)\n",
        "top_pos_verbs=freq_dist_pos_verb.most_common(50)\n",
        "\n"
      ],
      "metadata": {
        "id": "nePkJt5fCK37"
      },
      "execution_count": 155,
      "outputs": []
    },
    {
      "cell_type": "code",
      "source": [
        "freq_dist_neg_adj=nltk.FreqDist(negative_adjectives)\n",
        "top_neg_adj=freq_dist_neg_adj.most_common(50)\n",
        "freq_dist_neg_adverb=nltk.FreqDist(negative_adverbs)\n",
        "top_neg_adverb=freq_dist_neg_adverb.most_common(50)\n",
        "freq_dist_neg_verb=nltk.FreqDist(negative_verbs)\n",
        "top_neg_verb=freq_dist_neg_verb.most_common(50)"
      ],
      "metadata": {
        "id": "Y7nJyGqjCQND"
      },
      "execution_count": 171,
      "outputs": []
    },
    {
      "cell_type": "code",
      "source": [
        "print(top_pos_adj)\n",
        "print(top_neg_adj)\n"
      ],
      "metadata": {
        "colab": {
          "base_uri": "https://localhost:8080/"
        },
        "id": "sL-RjR56FDjg",
        "outputId": "78595eac-06bf-462d-e7e7-450d7d1e838c"
      },
      "execution_count": 188,
      "outputs": [
        {
          "output_type": "stream",
          "name": "stdout",
          "text": [
            "[('good', 804), ('great', 544), ('first', 495), ('best', 379), ('new', 347), ('many', 292), ('bad', 228), ('much', 227), ('little', 224), ('second', 194), ('last', 175), ('funny', 156), ('better', 155), ('next', 150), ('excellent', 145), ('old', 144), ('real', 140), ('interesting', 126), ('main', 115), ('favorite', 115), ('big', 106), ('several', 98), ('different', 96), ('entire', 95), ('whole', 93), ('final', 92), ('sure', 89), ('special', 89), ('high', 88), ('serial', 85), ('previous', 85), ('able', 82), ('hard', 79), ('human', 79), ('third', 76), ('wonderful', 76), ('nice', 75), ('strong', 75), ('full', 74), ('perfect', 73), ('original', 72), ('least', 70), ('entertaining', 64), ('short', 63), ('enjoyable', 63), ('long', 60), ('true', 58), ('wrong', 58), ('overall', 58), ('young', 57)]\n",
            "[('great', 408), ('good', 284), ('first', 110), ('new', 98), ('many', 92), ('little', 76), ('interesting', 72), ('much', 68), ('original', 64), ('last', 54), ('best', 46), ('whole', 46), ('excellent', 46), ('worth', 44), ('awesome', 44), ('next', 40), ('unique', 40), ('long', 38), ('real', 36), ('amazing', 36), ('old', 36), ('main', 36), ('right', 32), ('sure', 32), ('wrong', 30), ('funny', 28), ('high', 28), ('entire', 28), ('due', 28), ('final', 28), ('hard', 26), ('better', 24), ('second', 24), ('short', 24), ('big', 24), ('different', 22), ('wonderful', 22), ('quirky', 22), ('bad', 22), ('least', 22), ('glad', 20), ('strong', 20), ('enough', 20), ('small', 20), ('nice', 20), ('entertaining', 18), ('human', 18), ('fantastic', 18), ('special', 18), ('dark', 18)]\n"
          ]
        }
      ]
    },
    {
      "cell_type": "code",
      "source": [
        "\n",
        "print(top_neg_verb)\n",
        "print(top_pos_verbs)\n"
      ],
      "metadata": {
        "colab": {
          "base_uri": "https://localhost:8080/"
        },
        "id": "6SJIsNooEv2W",
        "outputId": "e14bb225-424e-4b4b-d77e-2ad33c5f8462"
      },
      "execution_count": 162,
      "outputs": [
        {
          "output_type": "stream",
          "name": "stdout",
          "text": [
            "[(\"'s\", 201), ('get', 101), ('watching', 84), ('make', 72), (\"'m\", 67), ('going', 66), ('see', 61), ('watch', 56), ('makes', 50), ('know', 49), ('go', 40), ('think', 39), ('like', 37), ('want', 31), ('made', 31), ('recommend', 30), ('got', 30), ('keep', 29), ('gets', 27), ('find', 26), ('love', 23), ('entertaining', 23), ('miss', 23), ('interesting', 22), ('looking', 22), ('come', 21), ('watched', 21), ('take', 20), ('done', 20), ('coming', 19), ('left', 18), ('ending', 18), ('seems', 18), ('seem', 17), ('getting', 17), ('comes', 17), (\"'re\", 17), ('took', 17), ('acting', 17), ('goes', 15), ('liked', 15), ('keeps', 15), ('came', 13), ('making', 13), ('plays', 13), ('trying', 13), ('wait', 13), ('enjoy', 12), ('say', 12), ('looks', 12)]\n",
            "[(\"'s\", 1019), ('get', 508), ('watch', 413), ('love', 399), ('see', 359), ('watching', 299), ('think', 270), (\"'ve\", 246), ('make', 233), ('know', 231), ('find', 222), ('going', 208), ('like', 207), (\"'m\", 197), ('made', 186), ('watched', 186), ('seen', 181), ('go', 168), ('enjoy', 159), ('want', 159), ('makes', 155), ('loved', 154), ('got', 153), ('gets', 150), ('come', 140), ('say', 139), ('found', 138), ('keep', 133), ('give', 132), ('seems', 124), ('done', 118), (\"'re\", 118), ('enjoyed', 118), ('take', 114), ('thought', 106), ('played', 97), ('getting', 96), ('help', 95), ('comes', 92), ('shows', 92), ('feel', 90), ('said', 88), ('become', 87), ('goes', 87), ('recommend', 85), ('left', 85), ('started', 84), ('written', 83), ('put', 82), ('believe', 77)]\n"
          ]
        }
      ]
    },
    {
      "cell_type": "code",
      "source": [
        "import matplotlib.pyplot as plt\n",
        "plt.plot(review_positives, summary_positives, linestyle='dotted')\n",
        "plt.show()\n",
        "\n"
      ],
      "metadata": {
        "colab": {
          "base_uri": "https://localhost:8080/",
          "height": 263
        },
        "id": "yy5oOKCtGMh1",
        "outputId": "a00ba9d2-3ee0-4744-d491-4dd3ca3bc1d1"
      },
      "execution_count": 179,
      "outputs": [
        {
          "output_type": "display_data",
          "data": {
            "text/plain": [
              "<Figure size 432x288 with 1 Axes>"
            ],
            "image/png": "[encoded data removed]"
          },
          "metadata": {
            "needs_background": "light"
          }
        }
      ]
    },
    {
      "cell_type": "code",
      "source": [
        "plt.plot(review_negatives, summary_negatives, linestyle='dotted')\n",
        "plt.show()"
      ],
      "metadata": {
        "colab": {
          "base_uri": "https://localhost:8080/",
          "height": 263
        },
        "id": "-1YubPJVIMi4",
        "outputId": "11c4f98f-df22-42df-87b0-80593e66cc56"
      },
      "execution_count": 181,
      "outputs": [
        {
          "output_type": "display_data",
          "data": {
            "text/plain": [
              "<Figure size 432x288 with 1 Axes>"
            ],
            "image/png": "[encoded data removed]"
          },
          "metadata": {
            "needs_background": "light"
          }
        }
      ]
    }
  ]
}